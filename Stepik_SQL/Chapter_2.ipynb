
ИНТЕРАКТИВНЫЙ ТРЕНАЖЕР ПО SQL. ОСНОВЫ РЕЛЯЦИОННОЙ МОДЕЛИ И SQL.

Курс на Stepik.

Автор: Озерова Галина Павловна

Озерова Галина Павловна
Конспектировал: Илья Филимонов (GiHub: @IsFilimonov)

Илья Филимонов
Table of Contents
Введение
От конспектирующего
Организуем работу с БД
Памятка о типичных ошибках и способах их исправления
Запросы SQL к связанным таблицам
2.1 Связи между таблицами
Задание 1
Задание 2
Создание таблицы с внешними ключами
Пример
Задание 3
Действия при удалении записи главной таблицы
Пример
Задание 4
Задание 5
2.2 Запросы на выборку, соединение таблиц
Соединение INNER JOIN
Задача
Внешнее соединение LEFT и RIGHT OUTER JOIN
Задача
Перекрестное соединение CROSS JOIN
Задание
Запросы на выборку из нескольких таблиц
Задача
Запросы для нескольких таблиц с группировкой
Задача
Запросы для нескольких таблиц со вложенными запросами
Задача
Вложенные запросы в операторах соединения
Задача
Операция соединение, использование USING()
Задание
2.3 Запросы корректировки, соединение таблиц
Запросы на обновление, связанные таблицы
Задача
Запросы на добавление, связанные таблицы
Задача
Запрос на добавление, связанные таблицы
Запрос на обновление, вложенные запросы
Каскадное удаление записей связанных таблиц
Удаление записей главной таблицы с сохранением записей в зависимой
Удаление записей, использование связанных таблиц
Задача
2.4 База данных «Интернет-магазин книг», запросы на выборку
Запросы на основе трех и более связанных таблиц
Задача
Введение
От конспектирующего
(Не реклама): сам курс использует диалект MySQL, но мне комфортнее использовать PostgreSQL 12.6 (download).
Рекомендации того, чего не нужно делать в Postgres.

Для работы с базой лично я использую IDE DataGrip (платная) или Dbeaver (бесплатная) - под MacOS.

Это всё сторонние решения, но можно воспользоваться более простым способом - использовать Jupyter Notebook в роли SQL IDE. Для этого нам потребуется установить несколько библиотек. Для работы с Jupyter Notebook я использую платформу Anaconda, поэтому все нужные библиотеки для работы я буду устанавливать именно в эту среду. Я не буду останавливаться на деталях в вопросе "как?", чтобы в деталях не закопаться. В интернете полно подсказок. Главное, должны быть установлены:

ipython-sql - пакет для работы с SQL запросами;
psycopg2 или psycopg2-binary - драйвер базы данных Postgres. Там есть нюансы с установкой;
sqlalchemy - ORM для работы с SQL БД.
Более подробно читайте статью, которая была выше.

Для установки соединения с БД мы единожды используем SQL Alchemy.

import sqlalchemy
Далее создаем соединение.

sqlalchemy.create_engine("postgresql://localhost:5432/postgres")
Engine(postgresql://localhost:5432/postgres)
Загружаем extension.

%load_ext sql
Проверяем соединение.

%sql postgresql://localhost:5432/postgres
'Connected: @postgres'
Чтобы узнать какая версия установлена у вас, введите в консоле запроса БД (не в командной строке, а в ячейке):

%%sql

SELECT version();
 * postgresql://localhost:5432/postgres
1 rows affected.
version
PostgreSQL 12.6 on x86_64-apple-darwin16.7.0, compiled by Apple LLVM version 8.1.0 (clang-802.0.42), 64-bit
Вероятнее всего у вас уже создана БД postgres. Будем работать с ней. В БД нам нужно создать схему stepik, так сказать группировку (семантическую) для нужных нам таблиц.

DROP SCHEMA ... CASCADE удаляет схему со всеми данными внутри.
IF NOT EXISTS означает не делать ничего (только выдать замечание), если схема с таким именем уже существует.

%%sql
DROP SCHEMA IF EXISTS stepik CASCADE;

CREATE SCHEMA IF NOT EXISTS stepik;
 * postgresql://localhost:5432/postgres
Done.
Done.
[]
Организуем работу с БД
Для начала, чтобы узнать все таблицы, которые созданы в базе:

--MySQL
SELECT table_name, engine
FROM information_schema.tables;

--Postgres
SELECT * FROM information_schema.tables;
Чтобы узнать из каких полей состоит таблица:

--MySQL
DESCRIBE table;

--Postgres
SELECT column_name, data_type, character_maximum_length, column_default, is_nullable -- *
FROM information_schema.columns
WHERE table_name = 'author';
Памятка о типичных ошибках и способах их исправления
Приведите синтаксис запроса к общепринятому:
если у вас есть время, стоит изучить руководство по стилю SQL;
можете отформатировать ваш запрос с помощью сторонних сервисов.
Проверьте, что ключевые слова, названия столбцов и значения в ячейках, которые необходимо найти, написаны правильно. Особенно обратите внимание, чтобы в русских названиях столбцов не было английских букв.
Проверьте, что:
количество открывающихся скобок равно количеству закрывающихся;
запятые разделяют перечисление столбцов, но не ключевые слова;
запросы разделяются точкой с запятой.
Последовательность написания команд SQL:
SELECT 'столбцы или * для выбора всех столбцов; обязательно'
FROM 'таблица; обязательно'
WHERE 'условие/фильтрация, например, city = 'Moscow'; необязательно'
GROUP BY 'столбец, по которому хотим сгруппировать данные; необязательно'
HAVING 'условие/фильтрация на уровне сгруппированных данных; необязательно'
ORDER BY 'столбец, по которому хотим отсортировать вывод; необязательно'
Если запрос включает подзапросы, выполните сначала подзапросы и удостоверьтесь, что получаете ожидаемый результат.
Важно! На платформе Stepik используется MySQL, версия 8.0.21.
Последовательность выполнения команд SQL:
SQL order8. Или другой вариант от [@Ken Flerlage](https://www.flerlagetwins.com/) со сравнением ([источник](https://www.flerlagetwins.com/2018/10/sql-part4.html)):SQL order operations9. Специфические отличия MySQL от PostgreSQL:
MySQL: FROM => WHERE = SELECT = GROUP BY = HAVING = ORDER BY = LIMIT.

PostgreSQL: FROM => WHERE = GROUP BY = HAVING = SELECT = DISTINCT = ORDER BY = LIMIT.

Запросы SQL к связанным таблицам
2.1 Связи между таблицами
Связь «один ко многим» имеет место, когда одной записи главной таблицы соответствует несколько записей связанной таблицы, а каждой записи связанной таблицы соответствует только одна запись главной таблицы. Обозначается это так:
Автор ---> Книга

Связь «многие ко многим» имеет место когда каждой записи одной таблицы соответствует несколько записей во второй, и наоборот, каждой записи второй таблицы соответствует несколько записей в первой. Обозначается это так:
Автор <---> Книга

Задание 1
Создать таблицу author следующей структуры:

CREATE TABLE author(
  author_id INT PRIMARY KEY AUTO_INCREMENT, 
  name_author varchar(50)
);
%%sql
DROP TABLE IF EXISTS stepik.author CASCADE;

CREATE TABLE IF NOT EXISTS stepik.author (
  author_id int primary key generated always as identity, 
  name_author text
);
 * postgresql://localhost:5432/postgres
Done.
Done.
[]
Задание 2
Заполнить таблицу author. В нее включить следующих авторов:

INSERT INTO author(name_author)
VALUES ('Булгаков М.А.'),
       ('Достоевский Ф.М.'),
       ('Есенин С.А.'),
       ('Пастернак Б.Л.');
%%sql
INSERT INTO stepik.author(name_author)
VALUES ('Булгаков М.А.'),
       ('Достоевский Ф.М.'),
       ('Есенин С.А.'),
       ('Пастернак Б.Л.');
 * postgresql://localhost:5432/postgres
4 rows affected.
[]
Создание таблицы с внешними ключами
При создании зависимой таблицы (таблицы, которая содержит внешние ключи) необходимо учитывать, что :

каждый внешний ключ должен иметь такой же тип данных, как связанное поле главной таблицы (в наших примерах это INT);
необходимо указать главную для нее таблицу и столбец, по которому осуществляется связь:
FOREIGN KEY (связанное_поле_зависимой_таблицы)  
REFERENCES главная_таблица (связанное_поле_главной_таблицы)
По умолчанию любой столбец, кроме ключевого, может содержать значение NULL. При создании таблицы это можно переопределить, используя ограничение NOT NULL для этого столбца:

CREATE TABLE таблица (
    столбец_1 INT NOT NULL, 
    столбец_2 VARCHAR(10) 
);
Пример
Создать таблицу book следующей структуры:

CREATE TABLE book (
    book_id INT PRIMARY KEY AUTO_INCREMENT, 
    title VARCHAR(50), 
    author_id INT NOT NULL, 
    price DECIMAL(8,2), 
    amount INT, 
    FOREIGN KEY (author_id)  REFERENCES author (author_id) --указываем внешний ключ
);
Задание 3
Запрос на создание таблицы genre:

CREATE TABLE genre (
    genre_id INT PRIMARY KEY AUTO_INCREMENT, 
    name_genre VARCHAR(50)
);
Запрос на создание таблицы book:

CREATE TABLE book (
    book_id INT PRIMARY KEY AUTO_INCREMENT, 
    title VARCHAR(50),
    author_id INT NOT NULL,
    genre_id INT,
    price DECIMAL(8,2),
    amount INT,
    FOREIGN KEY (author_id) REFERENCES author (author_id),
    FOREIGN KEY (genre_id)  REFERENCES genre (genre_id) 
);
%%sql
DROP TABLE IF EXISTS stepik.genre CASCADE;

CREATE TABLE IF NOT EXISTS stepik.genre
(
    genre_id   INT primary key generated always AS identity,
    name_genre TEXT
);

INSERT INTO stepik.genre(name_genre)
VALUES ('Роман'),
       ('Поэзия');

DROP TABLE IF EXISTS stepik.book CASCADE;

CREATE TABLE IF NOT EXISTS stepik.book
(
    book_id   INT primary key generated always AS identity,
    title     TEXT,
    author_id INT NOT NULL,
    genre_id  INT,
    price     DECIMAL(8, 2),
    amount    INT,
    FOREIGN KEY (author_id) REFERENCES stepik.author (author_id),
    FOREIGN KEY (genre_id) REFERENCES stepik.genre (genre_id)
);
 * postgresql://localhost:5432/postgres
Done.
Done.
2 rows affected.
Done.
Done.
[]
Действия при удалении записи главной таблицы
С помощью выражения ON DELETE можно установить действия, которые выполняются для записей подчиненной таблицы при удалении связанной строки из главной таблицы. При удалении можно установить следующие опции:

CASCADE: автоматически удаляет строки из зависимой таблицы при удалении связанных строк в главной таблице.
SET NULL: при удалении связанной строки из главной таблицы устанавливает для столбца внешнего ключа значение NULL. (В этом случае столбец внешнего ключа должен поддерживать установку NULL).
SET DEFAULT похоже на SET NULL за тем исключением, что значение внешнего ключа устанавливается не в NULL, а в значение по умолчанию для данного столбца.
RESTRICT: отклоняет удаление строк в главной таблице при наличии связанных строк в зависимой таблице.
Важно! Если для столбца установлена опция SET NULL, то при его описании нельзя задать ограничение на пустое значение.

Пример
Будем считать, что при удалении автора из таблицы author, необходимо удалить все записи о книгах из таблицы book, написанные этим автором. Данное действие необходимо прописать при создании таблицы.

CREATE TABLE book (
    book_id INT PRIMARY KEY AUTO_INCREMENT, 
    title VARCHAR(50), 
    author_id INT NOT NULL, 
    price DECIMAL(8,2), 
    amount INT, 
    FOREIGN KEY (author_id)  REFERENCES author (author_id) ON DELETE CASCADE
);
Задание 4
Создать таблицу book той же структуры, что и на предыдущем шаге. Будем считать, что при удалении автора из таблицы author, должны удаляться все записи о книгах из таблицы book, написанные этим автором. А при удалении жанра из таблицы genre для соответствующей записи book установить значение Null в столбце genre_id.

CREATE TABLE book (
    book_id INT PRIMARY KEY AUTO_INCREMENT, 
    title VARCHAR(50), 
    author_id INT NOT NULL,
    genre_id INT,
    price DECIMAL(8,2), 
    amount INT, 
    FOREIGN KEY (author_id) REFERENCES author (author_id) ON DELETE CASCADE,
    FOREIGN KEY (genre_id)  REFERENCES genre (genre_id)  ON DELETE SET NULL
);
%%sql

DROP TABLE IF EXISTS stepik.book CASCADE;

CREATE TABLE IF NOT EXISTS stepik.book
(
    book_id   INT primary key generated always AS identity,
    title     TEXT,
    author_id INT NOT NULL,
    genre_id  INT,
    price     DECIMAL(8, 2),
    amount    INT,
    FOREIGN KEY (author_id) REFERENCES stepik.author (author_id) ON DELETE CASCADE,
    FOREIGN KEY (genre_id) REFERENCES stepik.genre (genre_id) ON DELETE SET NULL
);
 * postgresql://localhost:5432/postgres
Done.
Done.
[]
Задание 5
Заполняем таблицу book:

INSERT INTO book(title, author_id, genre_id, price, amount)
VALUES ('Мастер и Маргарита', 1, 1, 670.99, 3),
       ('Белая гвардия', 1, 1, 540.50, 5),
       ('Идиот', 2, 1, 460.00, 10),
       ('Братья Карамазовы', 2, 1, 799.01, 3),
       ('Игрок', 2, 1, 480.50, 10),
       ('Стихотворения и поэмы', 3, 2, 650.00, 15),
       ('Черный человек', 3, 2, 570.20, 6),
       ('Лирика', 4, 2, 518.99, 2);
%%sql
INSERT INTO stepik.book(title, author_id, genre_id, price, amount)
VALUES ('Мастер и Маргарита', 1, 1, 670.99, 3),
       ('Белая гвардия', 1, 1, 540.50, 5),
       ('Идиот', 2, 1, 460.00, 10),
       ('Братья Карамазовы', 2, 1, 799.01, 3),
       ('Игрок', 2, 1, 480.50, 10),
       ('Стихотворения и поэмы', 3, 2, 650.00, 15),
       ('Черный человек', 3, 2, 570.20, 6),
       ('Лирика', 4, 2, 518.99, 2);
 * postgresql://localhost:5432/postgres
8 rows affected.
[]
2.2 Запросы на выборку, соединение таблиц
Для начала синхронизируем данные с курсом.

%%sql
DROP TABLE IF EXISTS stepik.author CASCADE;

CREATE TABLE IF NOT EXISTS stepik.author
(
    author_id   int primary key generated always as identity,
    name_author text
);

INSERT INTO stepik.author(name_author)
VALUES ('Булгаков М.А.'),
       ('Достоевский Ф.М.'),
       ('Есенин С.А.'),
       ('Пастернак Б.Л.'),
       ('Лермонтов М.Ю.'); --added value

DROP TABLE IF EXISTS stepik.genre CASCADE;

CREATE TABLE IF NOT EXISTS stepik.genre
(
    genre_id   INT primary key generated always AS identity,
    name_genre TEXT
);

INSERT INTO stepik.genre(name_genre)
VALUES ('Роман'),
       ('Поэзия'),
       ('Приключения'); --added value

DROP TABLE IF EXISTS stepik.book CASCADE;

CREATE TABLE IF NOT EXISTS stepik.book
(
    book_id   INT primary key generated always AS identity,
    title     TEXT,
    author_id INT NOT NULL,
    genre_id  INT,
    price     DECIMAL(8, 2),
    amount    INT,
    FOREIGN KEY (author_id) REFERENCES stepik.author (author_id) ON DELETE CASCADE,
    FOREIGN KEY (genre_id) REFERENCES stepik.genre (genre_id) ON DELETE SET NULL
);

INSERT INTO stepik.book(title, author_id, genre_id, price, amount)
VALUES ('Мастер и Маргарита', 1, 1, 670.99, 3),
       ('Белая гвардия', 1, 1, 540.50, 5),
       ('Идиот', 2, 1, 460.00, 10),
       ('Братья Карамазовы', 2, 1, 799.01, 3),
       ('Игрок', 2, 1, 480.50, 10),
       ('Стихотворения и поэмы', 3, 2, 650.00, 15),
       ('Черный человек', 3, 2, 570.20, 6),
       ('Лирика', 4, 2, 518.99, 2);
 * postgresql://localhost:5432/postgres
Done.
Done.
5 rows affected.
Done.
Done.
3 rows affected.
Done.
Done.
8 rows affected.
[]
Соединение INNER JOIN
Формирование:

Каждая строка одной таблицы сопоставляется с каждой строкой второй таблицы;
Для полученной «соединённой» строки проверяется условие соединения;
Усли условие истинно, в таблицу результата добавляется соответствующая «соединённая» строка.
SELECT
 ...
FROM
    таблица_1 INNER JOIN  таблица_2
    ON условие
...
Нет никакой разницы, сплошной синтаксический сахар, при использовании JOIN и INNER JOIN. Обычно второй вариант используют, чтобы интуитивно отделять прочих JOIN-ов.

Важно: хотелось бы отметить, что часто JOIN-ы изображают с помощью диаграмм Венна. Это не совсем верно, так как данные множества - это всего лишь частный случай (ограничений по ключам) декартового произведения строк.

Задача
Вывести название, жанр и цену тех книг, количество которых больше 8, в отсортированном по убыванию цены виде.

SELECT b.title, g.name_genre, b.price
FROM book b
         INNER JOIN genre g
         ON b.genre_id = g.genre_id
WHERE b.amount > 8
ORDER BY b.price DESC;
%%sql
SELECT b.title, g.name_genre, b.price
FROM stepik.book b
	     INNER JOIN stepik.genre g
	     ON b.genre_id = g.genre_id
WHERE b.amount > 8
ORDER BY b.price DESC;
 * postgresql://localhost:5432/postgres
3 rows affected.
title	name_genre	price
Стихотворения и поэмы	Поэзия	650.00
Игрок	Роман	480.50
Идиот	Роман	460.00
Внешнее соединение LEFT и RIGHT OUTER JOIN
Можно писать вместо LEFT OUTER JOIN просто LEFT JOIN.

Формирование:

В результат включается внутреннее соединение (INNER JOIN) первой и второй таблицы в соответствии с условием;
Затем в результат добавляются те записи первой таблицы, которые не вошли во внутреннее соединение на шаге 1, для таких записей соответствующие поля второй таблицы заполняются значениями NULL;
Соединение RIGHT JOIN действует аналогично, только в пункте 2 первая таблица меняется на вторую и наоборот.
SELECT
 ...
FROM
    таблица_1 LEFT JOIN  таблица_2
    ON условие
...
Задача
Вывести все жанры, которые не представлены в книгах на складе.

SELECT g.name_genre
FROM genre g
         LEFT JOIN book b
         ON g.genre_id = b.genre_id
WHERE b.amount IS NULL;
%%sql
SELECT g.name_genre
FROM stepik.genre g
	     LEFT JOIN stepik.book b
	     USING (genre_id) --ON g.genre_id = b.genre_id
WHERE b.amount IS NULL;
 * postgresql://localhost:5432/postgres
1 rows affected.
name_genre
Приключения
Перекрестное соединение CROSS JOIN
Формирование:

каждая строка одной таблицы соединяется с каждой строкой другой таблицы, формируя в результате все возможные сочетания строк двух таблиц.
SELECT
 ...
FROM
    таблица_1 CROSS JOIN  таблица_2
...
или

SELECT
 ...
FROM
    таблица_1, таблица_2
....
Задание
Есть список городов, хранящийся в таблице city: city_id, city_name.

Необходимо в каждом городе провести выставку книг каждого автора в течение 2020 года. Дату проведения выставки выбрать случайным образом. Создать запрос, который выведет город, автора и дату проведения выставки. Последний столбец назвать Дата. Информацию вывести, отсортировав сначала в алфавитном порядке по названиям городов, а потом по убыванию дат проведения выставок.

SELECT c.name_city,
       a.name_author,
       date_add('2020-01-01', INTERVAL floor(rand() * 365) DAY) AS "Дата"
FROM city c,
     author a
ORDER BY c.name_city, Дата;
%%sql
DROP TABLE IF EXISTS stepik.city CASCADE;

CREATE TABLE IF NOT EXISTS stepik.city
(
    city_id   INT primary key generated always AS identity,
    name_city TEXT
);

INSERT INTO stepik.city(name_city)
VALUES ('Москва'),
       ('Санкт-Петербург'),
       ('Владивосток');
        
SELECT c.name_city,
       a.name_author,
       ('2020-01-01'::date) + floor(random() * 364)::int AS дата
FROM stepik.city c,
     stepik.author a
ORDER BY c.name_city DESC , дата DESC ;
 * postgresql://localhost:5432/postgres
Done.
Done.
3 rows affected.
15 rows affected.
name_city	name_author	дата
Владивосток	Достоевский Ф.М.	2020-11-16
Владивосток	Булгаков М.А.	2020-09-06
Владивосток	Есенин С.А.	2020-05-09
Владивосток	Пастернак Б.Л.	2020-02-11
Владивосток	Лермонтов М.Ю.	2020-01-26
Москва	Булгаков М.А.	2020-12-20
Москва	Пастернак Б.Л.	2020-12-02
Москва	Лермонтов М.Ю.	2020-04-24
Москва	Достоевский Ф.М.	2020-01-19
Москва	Есенин С.А.	2020-01-12
Санкт-Петербург	Пастернак Б.Л.	2020-12-22
Санкт-Петербург	Булгаков М.А.	2020-11-22
Санкт-Петербург	Лермонтов М.Ю.	2020-08-07
Санкт-Петербург	Есенин С.А.	2020-04-30
Санкт-Петербург	Достоевский Ф.М.	2020-01-26
Запросы на выборку из нескольких таблиц
SELECT
 ...
FROM
    first INNER JOIN  second
    ON first.first_id = second.first_id
        INNER JOIN  third
         ON second.second_id = third.second_id
...
Задача
Вывести информацию о книгах (жанр, книга, автор), относящихся к жанру, включающему слово «роман» в отсортированном по названиям книг виде.

SELECT g.name_genre, b.title, a.name_author
FROM genre g
        INNER JOIN book b
        USING (genre_id)
   		 	     INNER JOIN author a
   		 	     USING (author_id)
WHERE g.name_genre LIKE '%роман%'
ORDER BY title;
%%sql
SELECT g.name_genre, b.title, a.name_author
FROM stepik.genre g
	     INNER JOIN stepik.book b
	     USING (genre_id)
	     INNER JOIN stepik.author a
	     USING (author_id)
WHERE lower(g.name_genre) LIKE 'роман'
ORDER BY title;
 * postgresql://localhost:5432/postgres
5 rows affected.
name_genre	title	name_author
Роман	Игрок	Достоевский Ф.М.
Роман	Идиот	Достоевский Ф.М.
Роман	Белая гвардия	Булгаков М.А.
Роман	Мастер и Маргарита	Булгаков М.А.
Роман	Братья Карамазовы	Достоевский Ф.М.
Запросы для нескольких таблиц с группировкой
Вывести количество различных книг каждого автора. Информацию отсортировать в алфавитном порядке по фамилиям авторов.

SELECT name_author, count(title) AS Количество
FROM 
    author INNER JOIN book
    on author.author_id = book.author_id
GROUP BY name_author
ORDER BY name_author;
Результат:

+------------------+------------+
| name_author      | Количество |
+------------------+------------+
| Булгаков М.А.    | 2          |
| Достоевский Ф.М. | 3          |
| Есенин С.А.      | 2          |
| Пастернак Б.Л.   | 1          |
+------------------+------------+
При использовании соединения INNER JOIN мы не можем узнать, что книг Лермонтова на складе нет, но предполагается, что они могут быть. Чтобы автор Лермонтов был включен в результат, нужно изменить соединение таблиц.

SELECT name_author, count(title) AS Количество
FROM 
    author LEFT JOIN book
    on author.author_id = book.author_id
GROUP BY name_author
ORDER BY name_author;
Результат:

+------------------+------------+
| name_author      | Количество |
+------------------+------------+
| Булгаков М.А.    | 2          |
| Достоевский Ф.М. | 3          |
| Есенин С.А.      | 2          |
| Лермонтов М.Ю.   | 0          |
| Пастернак Б.Л.   | 1          |
+------------------+------------+
Задача
Посчитать количество экземпляров книг каждого автора на складе. Вывести тех авторов, количество книг которых меньше 10, в отсортированном по возрастанию количества виде. Последний столбец назвать Количество.

SELECT a.name_author, sum(b.amount) AS Количество
FROM author a
         LEFT JOIN book b
         USING (author_id)
GROUP BY author_id
HAVING ifnull(Количество, 0) < 10
ORDER BY Количество;
%%sql
SELECT a.name_author, sum(b.amount) AS количество
FROM stepik.author a
	     LEFT JOIN stepik.book b
	     USING (author_id)
GROUP BY author_id
HAVING coalesce(sum(b.amount), 0) < 10
ORDER BY количество;
 * postgresql://localhost:5432/postgres
3 rows affected.
name_author	количество
Пастернак Б.Л.	2
Булгаков М.А.	8
Лермонтов М.Ю.	None
Запросы для нескольких таблиц со вложенными запросами
В запросах, построенных на нескольких таблицах, можно использовать вложенные запросы. Вложенный запрос может быть включен: после ключевого слова SELECT, после FROM и в условие отбора после WHERE (HAVING).

SELECT name_author, SUM(amount) as Количество
FROM 
    author INNER JOIN book
    on author.author_id = book.author_id
GROUP BY name_author
HAVING SUM(amount) = 
     (/* вычисляем максимальное из общего количества книг каждого автора */
      SELECT MAX(sum_amount) AS max_sum_amount
      FROM 
          (/* считаем количество книг каждого автора */
            SELECT author_id, SUM(amount) AS sum_amount 
            FROM book GROUP BY author_id
          ) query_in
      );
Задача
Вывести в алфавитном порядке всех авторов, которые пишут только в одном жанре. Поскольку у нас в таблицах так занесены данные, что у каждого автора книги только в одном жанре, для этого запроса внесем изменения в таблицу book. Пусть у нас книга Есенина «Черный человек» относится к жанру «Роман», а книга Булгакова «Белая гвардия» к «Приключениям» (эти изменения в таблицы уже внесены).

WITH t1 AS (
    SELECT author_id, count(DISTINCT genre_id) unique_genre
    FROM book
    GROUP BY author_id
)
SELECT name_author
FROM author
         JOIN t1
         USING (author_id)
WHERE unique_genre = 1;
Для Postgres не будет решения, потому что требуется вносить изменения в book, потом возвращать. Синтаксис похожий будет, как и в решении MySQL.

Вложенные запросы в операторах соединения
Вложенные запросы могут использоваться в операторах соединения JOIN.

SELECT
 ...
FROM
    таблица ... JOIN  
       (
        SELECT ...
       ) имя_вложенного_запроса
    ON условие
...
Пример. Вывести авторов, пишущих книги в самом популярном жанре. Самым популярным считать жанр, общее количество экземпляров книг которого на складе максимально. Таких жанров может быть несколько, если они имеют одинаковое максимальное значение общего количества экземпляров. Только для этого шага изменена запись в таблице book.

SELECT  name_author
FROM author INNER JOIN book
     on author.author_id = book.author_id
GROUP BY name_author, genre_id
HAVING genre_id IN 
         (/* выбираем автора, если он пишет книги в самых популярных жанрах*/
          SELECT query_in_1.genre_id
          FROM 
              ( /* выбираем код жанра и количество произведений, относящихся к нему */
                SELECT genre_id, SUM(amount) AS sum_amount
                FROM book
                GROUP BY genre_id
               )query_in_1
          INNER JOIN 
              ( /* выбираем запись, в которой указан код жанр с максимальным количеством книг */
                SELECT genre_id, SUM(amount) AS sum_amount
                FROM book
                GROUP BY genre_id
                ORDER BY sum_amount DESC
                LIMIT 1
               ) query_in_2
          ON query_in_1.sum_amount= query_in_2.sum_amount
         );
Задача
Вывести информацию о книгах, написанных в самых популярных жанрах, в отсортированном в алфавитном порядке по названию книг виде.

WITH t1 AS (
    SELECT genre_id, SUM(amount) AS sum_amount
    FROM book
    GROUP BY genre_id
), t2 AS (
   SELECT max(sum_amount) AS max_value
   FROM t1
)
SELECT b.title, a.name_author, g.name_genre, b.price, b.amount
FROM book b
JOIN author a
USING (author_id)
JOIN genre g
USING (genre_id)
WHERE g.genre_id IN (SELECT genre_id FROM t1 WHERE sum_amount = (SELECT max_value FROM t2))
ORDER BY b.title;
Для Postgres не будет решения, потому что требуется вносить изменения в book, потом возвращать. Синтаксис похожий будет, как и в решении MySQL.

Операция соединение, использование USING()
При описании соединения таблиц с помощью JOIN в некоторых случаях вместо ON и следующего за ним условия можно использовать оператор USING(). (Я писал об этом ранее)

USING позволяет указать набор столбцов, которые есть в обеих объединяемых таблицах. Если база данных хорошо спроектирована, а каждый внешний ключ имеет такое же имя, как и соответствующий первичный ключ (например, genre.genre_id = book.genre_id), тогда можно использовать предложение USING для реализации операции JOIN.

При этом после SELECT, при использовании столбцов из USING(), необязательно указывать, из какой именно таблицы берется столбец.

Вариант с ON:

SELECT title, name_author, author.author_id /* явно указать таблицу - обязательно */
FROM 
    author INNER JOIN book
    ON author.author_id = book.author_id;
Вариант с USING:

SELECT title, name_author, author_id /* имя таблицы, из которой берется author_id, указывать не обязательно*/
FROM 
    author INNER JOIN book
    USING(author_id);
Запись условия соединения с ON является более общим случаем, так как:

позволяет задавать соединение не только по одноименным полям;
позволяет использовать произвольное условие на соединение таблиц, при этом в условие может включаться произвольное выражение.
Задание
Если в таблицах supply и book есть одинаковые книги, которые имеют равную цену, вывести их название и автора, а также посчитать общее количество экземпляров книг в таблицах supply и book, столбцы назвать Название, Автор и Количество.

SELECT title               AS Название,
       name_author         AS Автор,
       b.amount + s.amount AS Количество
FROM book b
         JOIN author a
         USING (author_id)
         JOIN supply s
         USING (title, price);
Для Postgres не будет решения, потому что требуется вносить изменения в book, потом возвращать. Синтаксис похожий будет, как и в решении MySQL.

2.3 Запросы корректировки, соединение таблиц
Синхронизируемся с курсом.

%%sql
DROP TABLE IF EXISTS stepik.author CASCADE;
CREATE TABLE IF NOT EXISTS stepik.author
(
	author_id   int PRIMARY KEY GENERATED ALWAYS AS IDENTITY,
	name_author text
);

INSERT INTO stepik.author(name_author)
VALUES ('Булгаков М.А.'),
       ('Достоевский Ф.М.'),
       ('Есенин С.А.'),
       ('Пастернак Б.Л.'),
       ('Лермонтов М.Ю.');

DROP TABLE IF EXISTS stepik.genre CASCADE;
CREATE TABLE IF NOT EXISTS stepik.genre
(
	genre_id   INT PRIMARY KEY GENERATED ALWAYS AS IDENTITY,
	name_genre TEXT
);

INSERT INTO stepik.genre(name_genre)
VALUES ('Роман'),
       ('Поэзия'),
       ('Приключения');

DROP TABLE IF EXISTS stepik.book CASCADE;
CREATE TABLE IF NOT EXISTS stepik.book
(
	book_id   INT PRIMARY KEY GENERATED ALWAYS AS IDENTITY,
	title     TEXT,
	author_id INT NOT NULL,
	genre_id  INT,
	price     DECIMAL(8, 2),
	amount    INT,
	FOREIGN KEY (author_id) REFERENCES stepik.author (author_id) ON DELETE CASCADE,
	FOREIGN KEY (genre_id) REFERENCES stepik.genre (genre_id) ON DELETE SET NULL
);

INSERT INTO stepik.book(title, author_id, genre_id, price, amount)
VALUES ('Мастер и Маргарита', 1, 1, 670.99, 3),
       ('Белая гвардия', 1, 1, 540.50, 5),
       ('Идиот', 2, 1, 460.00, 10),
       ('Братья Карамазовы', 2, 1, 799.01, 3),
       ('Игрок', 2, 1, 480.50, 10),
       ('Стихотворения и поэмы', 3, 2, 650.00, 15),
       ('Черный человек', 3, 2, 570.20, 6),
       ('Лирика', 4, 2, 518.99, 2);

DROP TABLE IF EXISTS stepik.supply;
CREATE TABLE IF NOT EXISTS stepik.supply
(
	supply_id INT PRIMARY KEY GENERATED ALWAYS AS IDENTITY,
	title     TEXT,
	author    TEXT,
	price     DECIMAL(8, 2),
	amount    INT
);

INSERT INTO stepik.supply(title, author, price, amount)
VALUES ('Доктор Живаго', 'Пастернак Б.Л.', 380.80, 4),
       ('Черный человек', 'Есенин С.А.', 570.20, 6),
       ('Белая гвардия', 'Булгаков М.А.', 540.50, 7),
       ('Идиот', 'Достоевский Ф.М.', 360.80, 3),
       ('Стихотворения и поэмы', 'Лермонтов М.Ю.', 255.90, 4),
       ('Остров сокровищ', 'Стивенсон Р.Л.', 599.99, 5);
 * postgresql://localhost:5432/postgres
Done.
Done.
5 rows affected.
Done.
Done.
3 rows affected.
Done.
Done.
8 rows affected.
Done.
Done.
6 rows affected.
[]
Запросы на обновление, связанные таблицы
UPDATE таблица_1
     ... JOIN таблица_2
     ON выражение
     ...
SET ...   
WHERE ...;
Задача
Для книг, которые уже есть на складе (в таблице book), но по другой цене, чем в поставке (supply), необходимо в таблице book увеличить количество на значение, указанное в поставке, и пересчитать цену. А в таблице supply обнулить количество этих книг. Формула для пересчета цены:
 
где
, 
 - цена книги в таблицах book и supply; 
, 
 - количество книг в таблицах book и supply.

UPDATE book b
    JOIN author a
    ON b.author_id = a.author_id
    JOIN supply s
    ON b.title = s.title AND
    a.name_author = s.author AND
    b.price <> s.price
SET 
    b.price = (b.price*b.amount + s.price*s.amount) / (b.amount + s.amount),
    b.amount = b.amount + s.amount,
    s.amount = 0;
Комментарий: сначала мы соединяем таблицы в "мегазорда", а следом уже изменяем данные, которые потом по своим местам разлетятся в соответствующие таблицы.

В случае с Postgres решение будет отличаться от решения MySQL.

Во-первых, в Postgres мы не можем использовать JOIN-ы в блоке UPDATE. Закон простой:один UPDATE обновляет только одну таблицу.
Во-вторых, в Postgres конструкция UPDATE ... SET ... FROM эквивалентна JOIN-у двух таблиц (в UPDATE и в FROM), а условие WHERE служит условием соединения.
Плюсом является то, что мы можем использовать JOIN-ы в секции FROM. Так как в этой задаче нам нужно было соединять таблицы book и author и, одновременно, обновлять таблицы book и supply, отсюда следует, что таблица book должна находиться в секции UPDATE, а не FROM, что в итоге не позволяет воспользоваться JOIN-ом book с author по причине пункта 1. Закон простой: один FROM может содержать множество соединенных таблиц.
Для использования мульти-UPDATE нескольких и более таблиц следует воспользоваться предложением WITH, который сначала обрабатывает внутренние запросы, а потом переходит к главному, верхнеуровневому. Данный подход с временными таблицами называется CTE (Common Table Expressions). Плюсом CTE является, что несколько операторов UPDATE включаются в один план запроса, который можно проверить с помощью оператора EXPLAIN.
Другой особенностью, которую стоит отметить - это то, что после обнуления значений количества в таблице supply теряется смысл в передаче RETURNING измененных значений в запрос уровня выше. Возвращается 0.
В силу особенности предыдущего пунтка 5, решение Postgres содержит предварительно рассчитанные данные во временной таблице supply_values, которая в последствии и будет являться источником FROM в ходе изменения таблицы book.
%%sql
WITH supply_values AS (
  /*Получаем количество и цену книг из supply до обнуления*/
  SELECT
    author.author_id,
    supply.author,
    supply.title,
    supply.amount,
    supply.price
  FROM
    stepik.book
    JOIN stepik.author USING (author_id)
    JOIN stepik.supply ON book.title = supply.title
      AND name_author = supply.author
      AND book.price <> supply.price
),
cte AS (
  /*Обнуляем значение amount в supply из рассчитанной таблицы supply_values*/
  UPDATE
    stepik.supply
  SET
    amount = 0
  FROM
    supply_values sv
  WHERE
    supply.author = sv.author
    AND supply.title = sv.title)
UPDATE
  stepik.book
SET
  price = (book.price * book.amount + sv.price * sv.amount) / (book.amount + sv.amount),
  amount = book.amount + sv.amount
FROM
  supply_values sv
WHERE
  book.title = sv.title AND
  book.author_id = sv.author_id
RETURNING
  *;
 * postgresql://localhost:5432/postgres
1 rows affected.
book_id	title	author_id	genre_id	price	amount	author_id_1	author	title_1	amount_1	price_1
3	Идиот	2	1	437.11	13	2	Достоевский Ф.М.	Идиот	3	360.80
Запросы на добавление, связанные таблицы
INSERT INTO таблица (список_полей)
SELECT список_полей_из_других_таблиц
FROM 
    таблица_1 
    ... JOIN таблица_2 ON ...
    ...
Задача
Включить новых авторов в таблицу author с помощью запроса на добавление, а затем вывести все данные из таблицы author. Новыми считаются авторы, которые есть в таблице supply, но нет в таблице author.

INSERT INTO author(name_author)
SELECT DISTINCT author
FROM supply
WHERE author NOT IN (SELECT DISTINCT name_author FROM author);
%%sql
INSERT INTO stepik.author(name_author)
SELECT DISTINCT author
FROM stepik.supply
WHERE author NOT IN (SELECT DISTINCT name_author FROM stepik.author);
 * postgresql://localhost:5432/postgres
1 rows affected.
[]
Запрос на добавление, связанные таблицы
SELECT title, author_id, price, amount
FROM 
    author 
    INNER JOIN supply ON author.name_author = supply.author
WHERE amount <> 0;
Добавить новые книги из таблицы supply в таблицу book на основе сформированного выше запроса. Затем вывести для просмотра таблицу book.

INSERT INTO book(title, author_id, price, amount)
SELECT title, author_id, price, amount
FROM author
     INNER JOIN supply
     ON author.name_author = supply.author
WHERE amount <> 0;
SELECT *
FROM book;
В Postgres решение будет схожее. В курсе опять цифры начали плясать непонятным образом, поэтому остановимся только на решении MySQL, чтобы каждый шаг не синхронизировать.

Запрос на обновление, вложенные запросы
Занести для книги «Стихотворения и поэмы» Лермонтова жанр «Поэзия», а для книги «Остров сокровищ» Стивенсона - «Приключения». (Использовать два запроса).

UPDATE book
SET genre_id = 
     (
      SELECT genre_id 
      FROM genre 
      WHERE name_genre = 'Поэзия'
     )
WHERE book_id = 10;

UPDATE book
SET genre_id = 
     (
      SELECT genre_id 
      FROM genre 
      WHERE name_genre = 'Приключения'
     )
WHERE book_id = 11;
Для Postgres тоже самое.

Каскадное удаление записей связанных таблиц
В частности, ON DELETE CASCADE автоматически удаляет строки из зависимой таблицы при удалении связанных строк в главной таблице.

В таблице book эта опция установлена для поля author_id.

Задание. Удалить всех авторов и все их книги, общее количество книг которых меньше 20.

DELETE
FROM author
WHERE author_id IN (SELECT author_id
                    FROM book
                    GROUP BY author_id
                    HAVING sum(amount) < 20);
Для Postgres по аналогии.

Удаление записей главной таблицы с сохранением записей в зависимой
Если задано SET NULL, то при удалении связанной строки из главной таблицы в зависимой, в столбце внешнего ключа, устанавливается значение NULL. (При этом в столбце внешнего ключа должно быть допустимо значение NULL)

В таблице book эта опция установлена на поле genre_id.

Задание. Удалить все жанры, к которым относится меньше 4-х книг. В таблице book для этих жанров установить значение Null.

DELETE
FROM genre
WHERE genre_id IN (SELECT genre_id
                   FROM book
                   GROUP BY genre_id
                   HAVING count(title) < 4);
Для Postgres по аналогии.

Удаление записей, использование связанных таблиц
DELETE FROM таблица_1
USING 
    таблица_1 
    INNER JOIN таблица_2 ON ...
WHERE ...
Задача
Удалить всех авторов, которые пишут в жанре "Поэзия". Из таблицы book удалить все книги этих авторов. В запросе для отбора авторов использовать полное название жанра, а не его id.

DELETE FROM author
USING 
    author
    JOIN book ON author.author_id = book.author_id
    JOIN genre ON book.genre_id = genre.genre_id
WHERE genre.name_genre = "Поэзия";
У Postgres слегка отличается решение. Вместо двойного использования author (в тч в USING), мы сразу же переходим к таблице из 1-го JOIN, а условия соединения переносим в WHERE. Более того, мы в WHERE используем и условие поэзии, а так же цепляемся к book с помощью JOIN традиционным способом. В итоге, синтаксис слегка отличается.

%%sql
DELETE
FROM stepik.author
	USING stepik.book
		JOIN stepik.genre ON book.genre_id = genre.genre_id
WHERE author.author_id = book.author_id AND
      genre.name_genre = 'Поэзия'
RETURNING *;
 * postgresql://localhost:5432/postgres
2 rows affected.
author_id	name_author	book_id	title	author_id_1	genre_id	price	amount	genre_id_1	name_genre
3	Есенин С.А.	6	Стихотворения и поэмы	3	2	650.00	15	2	Поэзия
4	Пастернак Б.Л.	8	Лирика	4	2	518.99	2	2	Поэзия
2.4 База данных «Интернет-магазин книг», запросы на выборку
Подготовка данных.

%%sql
/*Создаем схему*/
DROP SCHEMA IF EXISTS stepik CASCADE;
CREATE SCHEMA IF NOT EXISTS stepik;

---AUTHOR
DROP TABLE IF EXISTS stepik.author CASCADE;
CREATE TABLE IF NOT EXISTS stepik.author
(
		author_id   BIGINT PRIMARY KEY GENERATED ALWAYS AS IDENTITY,
		name_author TEXT
);
INSERT INTO stepik.author(name_author)
VALUES ('Булгаков М.А.'),
       ('Достоевский Ф.М.'),
       ('Есенин С.А.'),
       ('Пастернак Б.Л.'),
       ('Лермонтов М.Ю.');


---GENRE
DROP TABLE IF EXISTS stepik.genre CASCADE;
CREATE TABLE IF NOT EXISTS stepik.genre
(
		genre_id   BIGINT PRIMARY KEY GENERATED ALWAYS AS IDENTITY,
		name_genre TEXT
);
INSERT INTO stepik.genre(name_genre)
VALUES ('Роман'),
       ('Поэзия'),
       ('Приключения');


---BOOK
DROP TABLE IF EXISTS stepik.book CASCADE;
CREATE TABLE IF NOT EXISTS stepik.book
(
		book_id   BIGINT PRIMARY KEY GENERATED ALWAYS AS IDENTITY,
		title     TEXT,
		author_id BIGINT NOT NULL,
		genre_id  BIGINT,
		price     DECIMAL(8, 2),
		amount    INT,
		CONSTRAINT "FK_book_author"
				FOREIGN KEY (author_id) REFERENCES stepik.author (author_id) ON DELETE CASCADE,
		CONSTRAINT "FK_book_genre"
				FOREIGN KEY (genre_id) REFERENCES stepik.genre (genre_id) ON DELETE SET NULL
);
INSERT INTO stepik.book(title, author_id, genre_id, price, amount)
VALUES ('Мастер и Маргарита', 1, 1, 670.99, 3),
       ('Белая гвардия', 1, 1, 540.50, 5),
       ('Идиот', 2, 1, 460.00, 10),
       ('Братья Карамазовы', 2, 1, 799.01, 2),
       ('Игрок', 2, 1, 480.50, 10),
       ('Стихотворения и поэмы', 3, 2, 650.00, 15),
       ('Черный человек', 3, 2, 570.20, 6),
       ('Лирика', 4, 2, 518.99, 2);


---CITY
DROP TABLE IF EXISTS stepik.city CASCADE;
CREATE TABLE IF NOT EXISTS stepik.city
(
		city_id       BIGINT PRIMARY KEY GENERATED ALWAYS AS IDENTITY,
		name_city     TEXT,
		days_delivery INT
);
INSERT INTO stepik.city(name_city, days_delivery)
VALUES ('Москва', 5),
       ('Санкт-Петербург', 3),
       ('Владивосток', 12);


---CLIENT
CREATE EXTENSION IF NOT EXISTS citext;
DROP DOMAIN IF EXISTS email;
CREATE DOMAIN email AS citext
		CHECK ( value ~
		        '^[a-zA-Z0-9.!#$%&''*+/=?^_`{|}~-]+@[a-zA-Z0-9](?:[a-zA-Z0-9-]{0,61}[a-zA-Z0-9])?(?:\.[a-zA-Z0-9](?:[a-zA-Z0-9-]{0,61}[a-zA-Z0-9])?)*$' );

DROP TABLE IF EXISTS stepik.client CASCADE;
CREATE TABLE IF NOT EXISTS stepik.client
(
		client_id   BIGINT PRIMARY KEY GENERATED ALWAYS AS IDENTITY,
		name_client TEXT,
		city_id     BIGINT,
		email       email,
		CONSTRAINT "FK_client_city"
				FOREIGN KEY (city_id) REFERENCES stepik.city (city_id)
);
INSERT INTO stepik.client(name_client, city_id, email)
VALUES ('Баранов Павел', 3, 'baranov@test'),
       ('Абрамова Катя', 1, 'abramova@test'),
       ('Семенонов Иван', 2, 'semenov@test'),
       ('Яковлева Галина', 1, 'yakovleva@test');


---BUY
DROP TABLE IF EXISTS stepik.buy CASCADE;
CREATE TABLE IF NOT EXISTS stepik.buy
(
		buy_id          BIGINT PRIMARY KEY GENERATED ALWAYS AS IDENTITY,
		buy_description TEXT,
		client_id       BIGINT DEFAULT (NULL),
		CONSTRAINT "FK_buy_client"
				FOREIGN KEY (client_id) REFERENCES stepik.client (client_id)
);
INSERT INTO stepik.buy (buy_description, client_id)
VALUES ('Доставка только вечером', 1),
       (NULL, 3),
       ('Упаковать каждую книгу по отдельности', 2),
       (NULL, 1);


---BUY_BOOK
DROP TABLE IF EXISTS stepik.buy_book CASCADE;
CREATE TABLE IF NOT EXISTS stepik.buy_book
(
		buy_book_id BIGINT PRIMARY KEY GENERATED ALWAYS AS IDENTITY,
		buy_id      BIGINT,
		book_id     BIGINT,
		amount      INT,
		CONSTRAINT "FK_buy_book_buy"
				FOREIGN KEY (buy_id) REFERENCES stepik.buy (buy_id),
		CONSTRAINT "FK_buy_book_book"
				FOREIGN KEY (book_id) REFERENCES stepik.book (book_id)
);
INSERT INTO stepik.buy_book(buy_id, book_id, amount)
VALUES (1, 1, 1),
       (1, 7, 2),
       (2, 8, 2),
       (3, 3, 2),
       (3, 2, 1),
       (3, 1, 1),
       (4, 5, 1);


---STEP
DROP TABLE IF EXISTS stepik.step CASCADE;
CREATE TABLE IF NOT EXISTS stepik.step
(
		step_id   BIGINT PRIMARY KEY GENERATED ALWAYS AS IDENTITY,
		name_step TEXT
);
INSERT INTO stepik.step(name_step)
VALUES ('Оплата'),
       ('Упаковка'),
       ('Транспортировка'),
       ('Доставка');


---BUY_STEP
DROP TABLE IF EXISTS stepik.buy_step CASCADE;
CREATE TABLE IF NOT EXISTS stepik.buy_step
(
		buy_step_id   BIGINT PRIMARY KEY GENERATED ALWAYS AS IDENTITY,
		buy_id        INT,
		step_id       INT,
		date_step_beg DATE,
		date_step_end DATE,
		CONSTRAINT "FK_buy_step_buy"
				FOREIGN KEY (buy_id) REFERENCES stepik.buy (buy_id),
		CONSTRAINT "FK_buy_step_step"
				FOREIGN KEY (step_id) REFERENCES stepik.step (step_id)
);
INSERT INTO stepik.buy_step(buy_id, step_id, date_step_beg, date_step_end)
VALUES (1, 1, '2020-02-20', '2020-02-20'),
       (1, 2, '2020-02-20', '2020-02-21'),
       (1, 3, '2020-02-22', '2020-03-07'),
       (1, 4, '2020-03-08', '2020-03-08'),
       (2, 1, '2020-02-28', '2020-02-28'),
       (2, 2, '2020-02-29', '2020-03-01'),
       (2, 3, '2020-03-02', NULL),
       (2, 4, NULL, NULL),
       (3, 1, '2020-03-05', '2020-03-05'),
       (3, 2, '2020-03-05', '2020-03-06'),
       (3, 3, '2020-03-06', '2020-03-10'),
       (3, 4, '2020-03-11', NULL),
       (4, 1, '2020-03-20', NULL),
       (4, 2, NULL, NULL),
       (4, 3, NULL, NULL),
       (4, 4, NULL, NULL);
 * postgresql://localhost:5432/postgres
Done.
Done.
Done.
Done.
5 rows affected.
Done.
Done.
3 rows affected.
Done.
Done.
8 rows affected.
Done.
Done.
3 rows affected.
Done.
Done.
Done.
Done.
Done.
4 rows affected.
Done.
Done.
4 rows affected.
Done.
Done.
7 rows affected.
Done.
Done.
4 rows affected.
Done.
Done.
16 rows affected.
[]
Запросы на основе трех и более связанных таблиц
Вывести все заказы Баранова Павла (какие книги, по какой цене и в каком количестве он заказал) в отсортированном по номеру заказа и названиям книг виде.

SELECT buy.buy_id,
       book.title,
       book.price,
       buy_book.amount
FROM buy
     JOIN client
     USING (client_id)
     JOIN buy_book
     USING (buy_id)
     JOIN book
     USING (book_id)
WHERE client.name_client = 'Баранов Павел'
ORDER BY buy.buy_id, book.title;
%%sql
SELECT buy.buy_id,
       book.title,
       book.price,
       buy_book.amount
FROM stepik.buy
     JOIN stepik.client
     USING (client_id)
     JOIN stepik.buy_book
     USING (buy_id)
     JOIN stepik.book
     USING (book_id)
WHERE client.name_client = 'Баранов Павел'
ORDER BY buy.buy_id, book.title;
 * postgresql://localhost:5432/postgres
3 rows affected.
buy_id	title	price	amount
1	Мастер и Маргарита	670.99	1
1	Черный человек	570.20	2
4	Игрок	480.50	1
Задача
Посчитать, сколько раз была заказана каждая книга, для книги вывести ее автора (нужно посчитать, в каком количестве заказов фигурирует каждая книга). Результат отсортировать сначала по фамилиям авторов, а потом по названиям книг. Последний столбец назвать Количество.

