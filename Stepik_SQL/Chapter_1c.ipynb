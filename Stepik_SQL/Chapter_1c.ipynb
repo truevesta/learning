
ИНТЕРАКТИВНЫЙ ТРЕНАЖЕР ПО SQL. ОСНОВЫ РЕЛЯЦИОННОЙ МОДЕЛИ И SQL.

Курс на Stepik.

Автор: Озерова Галина Павловна

Озерова Галина Павловна
Конспектировал: Илья Филимонов (GiHub: @IsFilimonov)

Илья Филимонов
Table of Contents
Введение
От конспектирующего
Памятка о типичных ошибках и способах их исправления
Основные понятия реляционных баз данных
1.7 Таблица "Нарушения ПДД", запросы корректировки
Структура и наполнение таблицы
Задание 1
Задание 2
Использование временного имени таблицы (алиаса)
Задание 3
Задание 4
Задание 5
Задание 6
Задание 7
Задание 8
Заключение
Введение
От конспектирующего
(Не реклама): сам курс использует диалект MySQL, но мне комфортнее использовать PostgreSQL 12.6 (download).
Рекомендации того, чего не нужно делать в Postgres.

Для работы с базой лично я использую IDE DataGrip (платная) или Dbeaver (бесплатная) - под MacOS.

Это всё сторонние решения, но можно воспользоваться более простым способом - использовать Jupyter Notebook в роли SQL IDE. Для этого нам потребуется установить несколько библиотек. Для работы с Jupyter Notebook я использую платформу Anaconda, поэтому все нужные библиотеки для работы я буду устанавливать именно в эту среду. Я не буду останавливаться на деталях в вопросе "как?", чтобы в деталях не закопаться. В интернете полно подсказок. Главное, должны быть установлены:

ipython-sql - пакет для работы с SQL запросами;
psycopg2 или psycopg2-binary - драйвер базы данных Postgres. Там есть нюансы с установкой;
sqlalchemy - ORM для работы с SQL БД.
Более подробно читайте статью, которая была выше.

Для установки соединения с БД мы единожды используем SQL Alchemy.

import sqlalchemy
Далее создаем соединение.

sqlalchemy.create_engine("postgresql://localhost:5432/postgres")
Engine(postgresql://localhost:5432/postgres)
Загружаем extension.

%load_ext sql
Проверяем соединение.

%sql postgresql://localhost:5432/postgres
'Connected: @postgres'
Чтобы узнать какая версия установлена у вас, введите в консоле запроса БД (не в командной строке, а в ячейке):

%%sql

SELECT version();
 * postgresql://localhost:5432/postgres
1 rows affected.
version
PostgreSQL 12.6 on x86_64-apple-darwin16.7.0, compiled by Apple LLVM version 8.1.0 (clang-802.0.42), 64-bit
Вероятнее всего у вас уже создана БД postgres. Будем работать с ней. В БД нам нужно создать схему stepik, так сказать группировку (семантическую) для нужных нам таблиц.

DROP SCHEMA ... CASCADE удаляет схему со всеми данными внутри.
IF NOT EXISTS означает не делать ничего (только выдать замечание), если схема с таким именем уже существует.

%%sql
DROP SCHEMA IF EXISTS stepik CASCADE;

CREATE SCHEMA IF NOT EXISTS stepik;
 * postgresql://localhost:5432/postgres
Done.
Done.
[]
Памятка о типичных ошибках и способах их исправления
Приведите синтаксис запроса к общепринятому:
если у вас есть время, стоит изучить руководство по стилю SQL;
можете отформатировать ваш запрос с помощью сторонних сервисов.
Проверьте, что ключевые слова, названия столбцов и значения в ячейках, которые необходимо найти, написаны правильно. Особенно обратите внимание, чтобы в русских названиях столбцов не было английских букв.
Проверьте, что:
количество открывающихся скобок равно количеству закрывающихся;
запятые разделяют перечисление столбцов, но не ключевые слова;
запросы разделяются точкой с запятой.
Последовательность написания команд SQL:
SELECT 'столбцы или * для выбора всех столбцов; обязательно'
FROM 'таблица; обязательно'
WHERE 'условие/фильтрация, например, city = 'Moscow'; необязательно'
GROUP BY 'столбец, по которому хотим сгруппировать данные; необязательно'
HAVING 'условие/фильтрация на уровне сгруппированных данных; необязательно'
ORDER BY 'столбец, по которому хотим отсортировать вывод; необязательно'
Если запрос включает подзапросы, выполните сначала подзапросы и удостоверьтесь, что получаете ожидаемый результат.
Важно! На платформе Stepik используется MySQL, версия 8.0.21.
Последовательность выполнения команд SQL:
SQL order8. Или другой вариант от [@Ken Flerlage](https://www.flerlagetwins.com/) со сравнением ([источник](https://www.flerlagetwins.com/2018/10/sql-part4.html)):SQL order operations9. Специфические отличия MySQL от PostgreSQL:
MySQL: FROM => WHERE = SELECT = GROUP BY = HAVING = ORDER BY = LIMIT.

PostgreSQL: FROM => WHERE = GROUP BY = HAVING = SELECT = DISTINCT = ORDER BY = LIMIT.

Основные понятия реляционных баз данных
1.7 Таблица "Нарушения ПДД", запросы корректировки
Структура и наполнение таблицы
В таблице fine представлена информация о начисленных водителям штрафах за нарушения правил дорожного движения (ПДД) (фамилия водителя, номер машины, описание нарушения, сумма штрафа, дата совершения нарушения и дата оплаты штрафа):

CREATE TABLE fine
(
    fine_id        INT PRIMARY KEY AUTO_INCREMENT,
    name           VARCHAR(30),
    number_plate   VARCHAR(6),
    violation      VARCHAR(30),
    sum_fine       DECIMAL(8, 2),
    date_violation DATE,
    date_payment   DATE
);

INSERT INTO fine(name,number_plate,violation,sum_fine,date_violation,date_payment)
VALUES ('Баранов П.Е.', 'P523BT', 'Превышение скорости(от 40 до 60)', NULL, '2020-02-14 ', NULL),
       ('Абрамова К.А.', 'О111AB', 'Проезд на запрещающий сигнал', NULL, '2020-02-23', NULL),
       ('Яковлев Г.Р.', 'T330TT', 'Проезд на запрещающий сигнал', NULL, '2020-03-03', NULL),
       ('Баранов П.Е.', 'P523BT', 'Превышение скорости(от 40 до 60)', 500.00, '2020-01-12', '2020-01-17'),
       ('Абрамова К.А.', 'О111AB', 'Проезд на запрещающий сигнал', 1000.00, '2020-01-14', '2020-02-27'),
       ('Яковлев Г.Р.', 'T330TT', 'Превышение скорости(от 20 до 40)', 500.00, '2020-01-23', '2020-02-23'),
       ('Яковлев Г.Р.', 'M701AA', 'Превышение скорости(от 20 до 40)', NULL, '2020-01-12', NULL),
       ('Колесов С.П.', 'K892AX', 'Превышение скорости(от 20 до 40)', NULL, '2020-02-01', NULL);
В таблицу traffic_violation занесены нарушения ПДД и соответствующие штрафы (в рублях):

CREATE TABLE traffic_violation
(
    violation_id INT PRIMARY KEY AUTO_INCREMENT,
    violation    VARCHAR(30),
    sum_fine     DECIMAL(8, 2)
);

INSERT INTO traffic_violation (violation, sum_fine)
VALUES ('Превышение скорости(от 20 до 40)', 500),
       ('Превышение скорости(от 40 до 60)', 1000),
       ('Проезд на запрещающий сигнал', 1000);
%%sql
DROP TABLE IF EXISTS stepik.fine CASCADE;

CREATE TABLE stepik.fine
(
    fine_id        INT PRIMARY KEY GENERATED ALWAYS AS identity,
    name           TEXT,
    number_plate   TEXT,
    violation      TEXT,
    sum_fine       DECIMAL(8, 2),
    date_violation DATE,
    date_payment   DATE
);

INSERT INTO stepik.fine (name, number_plate, violation, sum_fine, date_violation, date_payment)
VALUES ('Баранов П.Е.', 'P523BT', 'Превышение скорости(от 40 до 60)', NULL, '2020-02-14 ', NULL),
       ('Абрамова К.А.', 'О111AB', 'Проезд на запрещающий сигнал', NULL, '2020-02-23', NULL),
       ('Яковлев Г.Р.', 'T330TT', 'Проезд на запрещающий сигнал', NULL, '2020-03-03', NULL),
       ('Баранов П.Е.', 'P523BT', 'Превышение скорости(от 40 до 60)', 500.00, '2020-01-12', '2020-01-17'),
       ('Абрамова К.А.', 'О111AB', 'Проезд на запрещающий сигнал', 1000.00, '2020-01-14', '2020-02-27'),
       ('Яковлев Г.Р.', 'T330TT', 'Превышение скорости(от 20 до 40)', 500.00, '2020-01-23', '2020-02-23'),
       ('Яковлев Г.Р.', 'M701AA', 'Превышение скорости(от 20 до 40)', NULL, '2020-01-12', NULL),
       ('Колесов С.П.', 'K892AX', 'Превышение скорости(от 20 до 40)', NULL, '2020-02-01', NULL);
 * postgresql://localhost:5432/postgres
Done.
Done.
8 rows affected.
[]
%%sql
DROP TABLE IF EXISTS stepik.traffic_violation CASCADE;

CREATE TABLE stepik.traffic_violation
(
    violation_id INT PRIMARY KEY GENERATED ALWAYS AS identity,
    violation    TEXT,
    sum_fine     DECIMAL(8, 2)
);

INSERT INTO stepik.traffic_violation (violation, sum_fine)
VALUES ('Превышение скорости(от 20 до 40)', 500),
       ('Превышение скорости(от 40 до 60)', 1000),
       ('Проезд на запрещающий сигнал', 1000);
 * postgresql://localhost:5432/postgres
Done.
Done.
3 rows affected.
[]
Задание 1
Создать таблицу fine.

Ключевые понятия:

MySQL: CREATE TABLE
PostgreSQL: CREATE TABLE
Создание таблицы для MySQL и PostgreSQL выше.

Задание 2
В таблицу fine первые 5 строк уже занесены. Добавить в таблицу записи с ключевыми значениями 6, 7, 8.

Ключевые понятия:

MySQL: INSERT INTO
PostgreSQL: INSERT INTO
Заполнение таблицы для MySQL и PostgreSQL выше.

Использование временного имени таблицы (алиаса)
Алиас (Alias) - псевдоним, который можно присваивать столбцам или таблицам для упрощения написания запросов.

Варианты использования:

с использованием ключевого слова AS:
FROM fine AS f, traffic_violation AS tv
а так же и без него:
FROM fine f, traffic_violation tv
После присвоения таблице алиаса, он используется во всех разделах запроса, в котором алиас задан:

WHERE f.violation = tv.violation
Пример
Для тех, кто уже оплатил штраф, вывести информацию о том, изменялась ли стандартная сумма штрафа.

SELECT  f.name, f.number_plate, f.violation, 
   if(
    f.sum_fine = tv.sum_fine, "Стандартная сумма штрафа", 
    if(
      f.sum_fine < tv.sum_fine, "Уменьшенная сумма штрафа", "Увеличенная сумма штрафа"
    )
  ) AS description               
FROM  fine f, traffic_violation tv
WHERE tv.violation = f.violation and f.sum_fine IS NOT Null;
Задание 3
Занести в таблицу fine суммы штрафов, которые должен оплатить водитель, в соответствии с данными из таблицы traffic_violation. При этом суммы заносить только в пустые поля столбца sum_fine.

Ключевые понятия:

MySQL: UPDATE SET WHERE
PostgreSQL: UPDATE SET WHERE
UPDATE fine AS f, traffic_violation AS tv
SET f.sum_fine = tv.sum_fine
WHERE f.sum_fine IS NULL AND f.violation = tv.violation;
%%sql
UPDATE stepik.fine AS f
SET sum_fine = tv.sum_fine
FROM stepik.traffic_violation AS tv
WHERE f.sum_fine IS NULL
  AND tv.violation = f.violation;
 * postgresql://localhost:5432/postgres
5 rows affected.
[]
Задание 4
Вывести фамилию, номер машины и нарушение только для тех водителей, которые на одной машине нарушили одно и то же правило два и более раз. При этом учитывать все нарушения, независимо от того оплачены они или нет. Информацию отсортировать в алфавитном порядке, сначала по фамилии водителя, потом по номеру машины и, наконец, по нарушению.

Ключевые понятия:

MySQL: HAVING COUNT
PostgreSQL: HAVING COUNT
SELECT name, number_plate, violation
FROM fine
GROUP BY name, number_plate, name, violation
HAVING COUNT(*) >= 2
ORDER BY name ASC, number_plate ASC, violation ASC;
%%sql
SELECT name, number_plate, violation
FROM stepik.fine
GROUP BY name, number_plate, name, violation
HAVING COUNT(*) >= 2
ORDER BY name DESC, number_plate DESC, violation DESC;
 * postgresql://localhost:5432/postgres
2 rows affected.
name	number_plate	violation
Абрамова К.А.	О111AB	Проезд на запрещающий сигнал
Баранов П.Е.	P523BT	Превышение скорости(от 40 до 60)
Задание 5
В таблице fine увеличить в два раза сумму неоплаченных штрафов для отобранных на предыдущем шаге записей.

Ключевые понятия:

MySQL: Формирование второй таблицы для условия, сравнение кортежей
PostgreSQL: Формирование второй таблицы для условия, сравнение кортежей
UPDATE fine AS f, 
    (SELECT name, number_plate, violation
      FROM fine
      GROUP BY name, number_plate, name, violation
      HAVING COUNT(*) >= 2
      ORDER BY name DESC, number_plate DESC, violation DESC) AS r
SET sum_fine = f.sum_fine * 2
WHERE (f.name, f.number_plate, f.violation) = 
      (r.name, r.number_plate, r.violation) AND
       f.date_payment IS Null;
%%sql
UPDATE stepik.fine AS f
SET sum_fine = f.sum_fine * 2
FROM (SELECT name, number_plate, violation
      FROM stepik.fine
      GROUP BY name, number_plate, name, violation
      HAVING COUNT(*) >= 2
      ORDER BY name DESC, number_plate DESC, violation DESC) AS r
WHERE (f.name, f.number_plate, f.violation) =
      (r.name, r.number_plate, r.violation)
      AND f.date_payment IS Null;
 * postgresql://localhost:5432/postgres
2 rows affected.
[]
Задание 6
Водители оплачивают свои штрафы. В таблице payment занесены даты их оплаты.

Так ка в курсе не предлагают создать таблицу payment, воспользуемся командой DESCRIBE payment и получим описание таблицы:

CREATE TABLE payment
(
    payment_id     INT PRIMARY KEY AUTO_INCREMENT,
    name           VARCHAR(30),
    number_plate   VARCHAR(6),
    violation      VARCHAR(30),
    date_violation DATE,
    date_payment   DATE
);

INSERT INTO payment(name, number_plate, violation, date_violation, date_payment)
VALUES ('Яковлев Г.Р.', 'M701AA', 'Превышение скорости(от 20 до 40)', '2020-01-12', '2020-01-22'),
       ('Баранов П.Е.', 'P523BT', 'Превышение скорости(от 40 до 60)', '2020-02-14', '2020-03-06'),
       ('Яковлев Г.Р.', 'T330TT', 'Проезд на запрещающий сигнал', '2020-03-03', '2020-03-23');
Ключевые понятия:

MySQL: UPDATE SET, CASE, сравнение кортежей
PostgreSQL: UPDATE SET, CASE, сравнение кортежей
UPDATE fine AS f, payment AS p
SET f.date_payment = p.date_payment,
    f.sum_fine     =
        CASE
            WHEN f.date_payment - f.date_violation <= 20 THEN f.sum_fine / 2
            ELSE f.sum_fine
            END
WHERE (f.name, f.number_plate, f.violation, f.date_violation) = (p.name, p.number_plate, p.violation, p.date_violation)
  AND f.date_payment IS NULL;
%%sql
DROP TABLE IF EXISTS stepik.payment CASCADE;

CREATE TABLE stepik.payment
(
    payment_id     INT PRIMARY KEY GENERATED ALWAYS AS identity,
    name           TEXT,
    number_plate   TEXT,
    violation      TEXT,
    date_violation DATE,
    date_payment   DATE
);

INSERT INTO stepik.payment(name, number_plate, violation, date_violation, date_payment)
VALUES ('Яковлев Г.Р.', 'M701AA', 'Превышение скорости(от 20 до 40)', '2020-01-12', '2020-01-22'),
       ('Баранов П.Е.', 'P523BT', 'Превышение скорости(от 40 до 60)', '2020-02-14', '2020-03-06'),
       ('Яковлев Г.Р.', 'T330TT', 'Проезд на запрещающий сигнал', '2020-03-03', '2020-03-23');
 * postgresql://localhost:5432/postgres
Done.
Done.
3 rows affected.
[]
%%sql
UPDATE stepik.fine AS f
SET date_payment = p.date_payment,
    sum_fine     =
        CASE
            WHEN f.date_payment - f.date_violation <= 20 THEN f.sum_fine / 2
            ELSE f.sum_fine
        END
FROM stepik.payment AS p
WHERE (f.name, f.number_plate, f.violation, f.date_violation) = (p.name, p.number_plate, p.violation, p.date_violation)
  AND f.date_payment IS NULL;
 * postgresql://localhost:5432/postgres
3 rows affected.
[]
Задание 7
Создать новую таблицу back_payment, куда внести информацию о неоплаченных штрафах (Фамилию и инициалы водителя, номер машины, нарушение, сумму штрафа и дату нарушения) из таблицы fine.

Ключевые понятия:

MySQL: CREATE TABLE AS
PostgreSQL: CREATE TABLE AS
CREATE TABLE IF NOT EXISTS back_payment AS
SELECT name, number_plate, violation, sum_fine, date_violation
FROM fine
WHERE date_payment IS NULL;
%%sql
DROP TABLE IF EXISTS stepik.back_payment CASCADE;

CREATE TABLE IF NOT EXISTS stepik.back_payment AS
SELECT name, number_plate, violation, sum_fine, date_violation
FROM stepik.fine
WHERE date_payment IS NULL;
 * postgresql://localhost:5432/postgres
Done.
2 rows affected.
[]
Задание 8
Удалить из таблицы fine информацию о нарушениях, совершенных раньше 1 февраля 2020 года.

Ключевые понятия:

MySQL: CREATE TABLE AS
PostgreSQL: CREATE TABLE AS

%%sql
DELETE FROM stepik.fine
WHERE date_violation < '2020-02-01';
 * postgresql://localhost:5432/postgres
4 rows affected.
[]
Заключение
После прохождения 1 модуля вам станет доступны конспекты курса по ссылке.
